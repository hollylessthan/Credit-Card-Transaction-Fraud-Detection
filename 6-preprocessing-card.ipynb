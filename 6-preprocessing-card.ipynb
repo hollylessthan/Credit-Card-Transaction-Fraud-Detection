{
 "cells": [
  {
   "cell_type": "code",
   "execution_count": 5,
   "id": "framed-lecture",
   "metadata": {},
   "outputs": [],
   "source": [
    "import pandas as pd\n",
    "import numpy as np\n",
    "import math"
   ]
  },
  {
   "cell_type": "code",
   "execution_count": 6,
   "id": "motivated-perth",
   "metadata": {},
   "outputs": [],
   "source": [
    "df = pd.read_csv(\"card transactions.csv\")\n",
    "df = df[df.columns[:10]]"
   ]
  },
  {
   "cell_type": "code",
   "execution_count": 7,
   "id": "flying-milan",
   "metadata": {},
   "outputs": [
    {
     "data": {
      "text/html": [
       "<div>\n",
       "<style scoped>\n",
       "    .dataframe tbody tr th:only-of-type {\n",
       "        vertical-align: middle;\n",
       "    }\n",
       "\n",
       "    .dataframe tbody tr th {\n",
       "        vertical-align: top;\n",
       "    }\n",
       "\n",
       "    .dataframe thead th {\n",
       "        text-align: right;\n",
       "    }\n",
       "</style>\n",
       "<table border=\"1\" class=\"dataframe\">\n",
       "  <thead>\n",
       "    <tr style=\"text-align: right;\">\n",
       "      <th></th>\n",
       "      <th>Recnum</th>\n",
       "      <th>Cardnum</th>\n",
       "      <th>Date</th>\n",
       "      <th>Merchnum</th>\n",
       "      <th>Merch description</th>\n",
       "      <th>Merch state</th>\n",
       "      <th>Merch zip</th>\n",
       "      <th>Transtype</th>\n",
       "      <th>Amount</th>\n",
       "      <th>Fraud</th>\n",
       "    </tr>\n",
       "  </thead>\n",
       "  <tbody>\n",
       "    <tr>\n",
       "      <th>0</th>\n",
       "      <td>1</td>\n",
       "      <td>5142190439</td>\n",
       "      <td>1/1/10</td>\n",
       "      <td>5509006296254</td>\n",
       "      <td>FEDEX SHP 12/23/09 AB#</td>\n",
       "      <td>TN</td>\n",
       "      <td>38118.0</td>\n",
       "      <td>P</td>\n",
       "      <td>3.62</td>\n",
       "      <td>0</td>\n",
       "    </tr>\n",
       "    <tr>\n",
       "      <th>1</th>\n",
       "      <td>2</td>\n",
       "      <td>5142183973</td>\n",
       "      <td>1/1/10</td>\n",
       "      <td>61003026333</td>\n",
       "      <td>SERVICE MERCHANDISE #81</td>\n",
       "      <td>MA</td>\n",
       "      <td>1803.0</td>\n",
       "      <td>P</td>\n",
       "      <td>31.42</td>\n",
       "      <td>0</td>\n",
       "    </tr>\n",
       "    <tr>\n",
       "      <th>2</th>\n",
       "      <td>3</td>\n",
       "      <td>5142131721</td>\n",
       "      <td>1/1/10</td>\n",
       "      <td>4503082993600</td>\n",
       "      <td>OFFICE DEPOT #191</td>\n",
       "      <td>MD</td>\n",
       "      <td>20706.0</td>\n",
       "      <td>P</td>\n",
       "      <td>178.49</td>\n",
       "      <td>0</td>\n",
       "    </tr>\n",
       "    <tr>\n",
       "      <th>3</th>\n",
       "      <td>4</td>\n",
       "      <td>5142148452</td>\n",
       "      <td>1/1/10</td>\n",
       "      <td>5509006296254</td>\n",
       "      <td>FEDEX SHP 12/28/09 AB#</td>\n",
       "      <td>TN</td>\n",
       "      <td>38118.0</td>\n",
       "      <td>P</td>\n",
       "      <td>3.62</td>\n",
       "      <td>0</td>\n",
       "    </tr>\n",
       "    <tr>\n",
       "      <th>4</th>\n",
       "      <td>5</td>\n",
       "      <td>5142190439</td>\n",
       "      <td>1/1/10</td>\n",
       "      <td>5509006296254</td>\n",
       "      <td>FEDEX SHP 12/23/09 AB#</td>\n",
       "      <td>TN</td>\n",
       "      <td>38118.0</td>\n",
       "      <td>P</td>\n",
       "      <td>3.62</td>\n",
       "      <td>0</td>\n",
       "    </tr>\n",
       "  </tbody>\n",
       "</table>\n",
       "</div>"
      ],
      "text/plain": [
       "   Recnum     Cardnum    Date       Merchnum        Merch description  \\\n",
       "0       1  5142190439  1/1/10  5509006296254   FEDEX SHP 12/23/09 AB#   \n",
       "1       2  5142183973  1/1/10    61003026333  SERVICE MERCHANDISE #81   \n",
       "2       3  5142131721  1/1/10  4503082993600        OFFICE DEPOT #191   \n",
       "3       4  5142148452  1/1/10  5509006296254   FEDEX SHP 12/28/09 AB#   \n",
       "4       5  5142190439  1/1/10  5509006296254   FEDEX SHP 12/23/09 AB#   \n",
       "\n",
       "  Merch state  Merch zip Transtype  Amount  Fraud  \n",
       "0          TN    38118.0         P    3.62      0  \n",
       "1          MA     1803.0         P   31.42      0  \n",
       "2          MD    20706.0         P  178.49      0  \n",
       "3          TN    38118.0         P    3.62      0  \n",
       "4          TN    38118.0         P    3.62      0  "
      ]
     },
     "execution_count": 7,
     "metadata": {},
     "output_type": "execute_result"
    }
   ],
   "source": [
    "df.head()"
   ]
  },
  {
   "cell_type": "code",
   "execution_count": 8,
   "id": "dress-colleague",
   "metadata": {},
   "outputs": [
    {
     "name": "stdout",
     "output_type": "stream",
     "text": [
      "<class 'pandas.core.frame.DataFrame'>\n",
      "RangeIndex: 96753 entries, 0 to 96752\n",
      "Data columns (total 10 columns):\n",
      " #   Column             Non-Null Count  Dtype  \n",
      "---  ------             --------------  -----  \n",
      " 0   Recnum             96753 non-null  int64  \n",
      " 1   Cardnum            96753 non-null  int64  \n",
      " 2   Date               96753 non-null  object \n",
      " 3   Merchnum           93378 non-null  object \n",
      " 4   Merch description  96753 non-null  object \n",
      " 5   Merch state        95558 non-null  object \n",
      " 6   Merch zip          92097 non-null  float64\n",
      " 7   Transtype          96753 non-null  object \n",
      " 8   Amount             96753 non-null  float64\n",
      " 9   Fraud              96753 non-null  int64  \n",
      "dtypes: float64(2), int64(3), object(5)\n",
      "memory usage: 7.4+ MB\n"
     ]
    }
   ],
   "source": [
    "df.info()"
   ]
  },
  {
   "cell_type": "code",
   "execution_count": 10,
   "id": "geological-exception",
   "metadata": {},
   "outputs": [
    {
     "data": {
      "text/html": [
       "<div>\n",
       "<style scoped>\n",
       "    .dataframe tbody tr th:only-of-type {\n",
       "        vertical-align: middle;\n",
       "    }\n",
       "\n",
       "    .dataframe tbody tr th {\n",
       "        vertical-align: top;\n",
       "    }\n",
       "\n",
       "    .dataframe thead th {\n",
       "        text-align: right;\n",
       "    }\n",
       "</style>\n",
       "<table border=\"1\" class=\"dataframe\">\n",
       "  <thead>\n",
       "    <tr style=\"text-align: right;\">\n",
       "      <th></th>\n",
       "      <th>Recnum</th>\n",
       "      <th>Cardnum</th>\n",
       "      <th>Date</th>\n",
       "      <th>Merchnum</th>\n",
       "      <th>Merch description</th>\n",
       "      <th>Merch state</th>\n",
       "      <th>Merch zip</th>\n",
       "      <th>Transtype</th>\n",
       "      <th>Amount</th>\n",
       "      <th>Fraud</th>\n",
       "    </tr>\n",
       "  </thead>\n",
       "  <tbody>\n",
       "    <tr>\n",
       "      <th>52714</th>\n",
       "      <td>52715</td>\n",
       "      <td>5142189135</td>\n",
       "      <td>7/13/10</td>\n",
       "      <td>NaN</td>\n",
       "      <td>INTERMEXICO</td>\n",
       "      <td>NaN</td>\n",
       "      <td>NaN</td>\n",
       "      <td>P</td>\n",
       "      <td>3102045.53</td>\n",
       "      <td>0</td>\n",
       "    </tr>\n",
       "    <tr>\n",
       "      <th>47339</th>\n",
       "      <td>47340</td>\n",
       "      <td>5142275225</td>\n",
       "      <td>6/22/10</td>\n",
       "      <td>NaN</td>\n",
       "      <td>INTERSOL</td>\n",
       "      <td>NaN</td>\n",
       "      <td>NaN</td>\n",
       "      <td>P</td>\n",
       "      <td>47900.00</td>\n",
       "      <td>0</td>\n",
       "    </tr>\n",
       "    <tr>\n",
       "      <th>59516</th>\n",
       "      <td>59517</td>\n",
       "      <td>5142138135</td>\n",
       "      <td>8/3/10</td>\n",
       "      <td>900009045549</td>\n",
       "      <td>KRACKELER SCIENTIFIC</td>\n",
       "      <td>NY</td>\n",
       "      <td>12202.0</td>\n",
       "      <td>P</td>\n",
       "      <td>30372.46</td>\n",
       "      <td>1</td>\n",
       "    </tr>\n",
       "    <tr>\n",
       "      <th>80886</th>\n",
       "      <td>80887</td>\n",
       "      <td>5142152857</td>\n",
       "      <td>10/11/10</td>\n",
       "      <td>NaN</td>\n",
       "      <td>CANYON ELECTRIC</td>\n",
       "      <td>NV</td>\n",
       "      <td>89102.0</td>\n",
       "      <td>P</td>\n",
       "      <td>28392.84</td>\n",
       "      <td>1</td>\n",
       "    </tr>\n",
       "    <tr>\n",
       "      <th>89673</th>\n",
       "      <td>89674</td>\n",
       "      <td>5142183210</td>\n",
       "      <td>11/29/10</td>\n",
       "      <td>NaN</td>\n",
       "      <td>CRUCIAL TECH./MICRON</td>\n",
       "      <td>ID</td>\n",
       "      <td>83642.0</td>\n",
       "      <td>P</td>\n",
       "      <td>27218.00</td>\n",
       "      <td>0</td>\n",
       "    </tr>\n",
       "    <tr>\n",
       "      <th>...</th>\n",
       "      <td>...</td>\n",
       "      <td>...</td>\n",
       "      <td>...</td>\n",
       "      <td>...</td>\n",
       "      <td>...</td>\n",
       "      <td>...</td>\n",
       "      <td>...</td>\n",
       "      <td>...</td>\n",
       "      <td>...</td>\n",
       "      <td>...</td>\n",
       "    </tr>\n",
       "    <tr>\n",
       "      <th>47165</th>\n",
       "      <td>47166</td>\n",
       "      <td>5142148452</td>\n",
       "      <td>6/22/10</td>\n",
       "      <td>930009906224</td>\n",
       "      <td>FEDEX SHP 05/23/10 AB#</td>\n",
       "      <td>TN</td>\n",
       "      <td>38118.0</td>\n",
       "      <td>P</td>\n",
       "      <td>0.08</td>\n",
       "      <td>0</td>\n",
       "    </tr>\n",
       "    <tr>\n",
       "      <th>57855</th>\n",
       "      <td>57856</td>\n",
       "      <td>5142129787</td>\n",
       "      <td>7/30/10</td>\n",
       "      <td>9108347680000</td>\n",
       "      <td>STAPLES NATIONAL #471</td>\n",
       "      <td>NJ</td>\n",
       "      <td>7606.0</td>\n",
       "      <td>P</td>\n",
       "      <td>0.02</td>\n",
       "      <td>0</td>\n",
       "    </tr>\n",
       "    <tr>\n",
       "      <th>78387</th>\n",
       "      <td>78388</td>\n",
       "      <td>5142236687</td>\n",
       "      <td>9/28/10</td>\n",
       "      <td>9108233080006</td>\n",
       "      <td>STAPLES #990</td>\n",
       "      <td>CA</td>\n",
       "      <td>90640.0</td>\n",
       "      <td>P</td>\n",
       "      <td>0.01</td>\n",
       "      <td>0</td>\n",
       "    </tr>\n",
       "    <tr>\n",
       "      <th>91179</th>\n",
       "      <td>91180</td>\n",
       "      <td>5142239369</td>\n",
       "      <td>12/6/10</td>\n",
       "      <td>89200648125</td>\n",
       "      <td>JOHN WILEY &amp; SON SOMERSET</td>\n",
       "      <td>NJ</td>\n",
       "      <td>8875.0</td>\n",
       "      <td>P</td>\n",
       "      <td>0.01</td>\n",
       "      <td>0</td>\n",
       "    </tr>\n",
       "    <tr>\n",
       "      <th>56124</th>\n",
       "      <td>56125</td>\n",
       "      <td>5142129955</td>\n",
       "      <td>7/25/10</td>\n",
       "      <td>991906628334</td>\n",
       "      <td>ALAMO FLAGS CO.</td>\n",
       "      <td>VA</td>\n",
       "      <td>22044.0</td>\n",
       "      <td>P</td>\n",
       "      <td>0.01</td>\n",
       "      <td>0</td>\n",
       "    </tr>\n",
       "  </tbody>\n",
       "</table>\n",
       "<p>96753 rows × 10 columns</p>\n",
       "</div>"
      ],
      "text/plain": [
       "       Recnum     Cardnum      Date       Merchnum          Merch description  \\\n",
       "52714   52715  5142189135   7/13/10            NaN                INTERMEXICO   \n",
       "47339   47340  5142275225   6/22/10            NaN                   INTERSOL   \n",
       "59516   59517  5142138135    8/3/10   900009045549       KRACKELER SCIENTIFIC   \n",
       "80886   80887  5142152857  10/11/10            NaN            CANYON ELECTRIC   \n",
       "89673   89674  5142183210  11/29/10            NaN       CRUCIAL TECH./MICRON   \n",
       "...       ...         ...       ...            ...                        ...   \n",
       "47165   47166  5142148452   6/22/10   930009906224     FEDEX SHP 05/23/10 AB#   \n",
       "57855   57856  5142129787   7/30/10  9108347680000      STAPLES NATIONAL #471   \n",
       "78387   78388  5142236687   9/28/10  9108233080006               STAPLES #990   \n",
       "91179   91180  5142239369   12/6/10    89200648125  JOHN WILEY & SON SOMERSET   \n",
       "56124   56125  5142129955   7/25/10   991906628334            ALAMO FLAGS CO.   \n",
       "\n",
       "      Merch state  Merch zip Transtype      Amount  Fraud  \n",
       "52714         NaN        NaN         P  3102045.53      0  \n",
       "47339         NaN        NaN         P    47900.00      0  \n",
       "59516          NY    12202.0         P    30372.46      1  \n",
       "80886          NV    89102.0         P    28392.84      1  \n",
       "89673          ID    83642.0         P    27218.00      0  \n",
       "...           ...        ...       ...         ...    ...  \n",
       "47165          TN    38118.0         P        0.08      0  \n",
       "57855          NJ     7606.0         P        0.02      0  \n",
       "78387          CA    90640.0         P        0.01      0  \n",
       "91179          NJ     8875.0         P        0.01      0  \n",
       "56124          VA    22044.0         P        0.01      0  \n",
       "\n",
       "[96753 rows x 10 columns]"
      ]
     },
     "execution_count": 10,
     "metadata": {},
     "output_type": "execute_result"
    }
   ],
   "source": [
    "df_clean = df.copy()\n",
    "df_clean.sort_values(by='Amount', ascending = False)#[1:].sort_values(by='Recnum')\n",
    "#df_clean"
   ]
  },
  {
   "cell_type": "code",
   "execution_count": 5,
   "id": "significant-attraction",
   "metadata": {},
   "outputs": [],
   "source": [
    "#Identify any exclusions, bad records\n",
    "\n",
    "#1.remove single large transaction outlier\n",
    "df_clean = df.copy()\n",
    "df_clean = df_clean.sort_values(by='Amount', ascending = False)[1:].sort_values(by='Recnum')\n",
    "\n",
    "#2. remove all but the “P” type transactions\n",
    "df_clean = df_clean[df_clean.Transtype == 'P']"
   ]
  },
  {
   "cell_type": "code",
   "execution_count": 6,
   "id": "manual-aircraft",
   "metadata": {},
   "outputs": [
    {
     "data": {
      "text/html": [
       "<div>\n",
       "<style scoped>\n",
       "    .dataframe tbody tr th:only-of-type {\n",
       "        vertical-align: middle;\n",
       "    }\n",
       "\n",
       "    .dataframe tbody tr th {\n",
       "        vertical-align: top;\n",
       "    }\n",
       "\n",
       "    .dataframe thead th {\n",
       "        text-align: right;\n",
       "    }\n",
       "</style>\n",
       "<table border=\"1\" class=\"dataframe\">\n",
       "  <thead>\n",
       "    <tr style=\"text-align: right;\">\n",
       "      <th></th>\n",
       "      <th>Recnum</th>\n",
       "      <th>Cardnum</th>\n",
       "      <th>Date</th>\n",
       "      <th>Merchnum</th>\n",
       "      <th>Merch description</th>\n",
       "      <th>Merch state</th>\n",
       "      <th>Merch zip</th>\n",
       "      <th>Transtype</th>\n",
       "      <th>Amount</th>\n",
       "      <th>Fraud</th>\n",
       "    </tr>\n",
       "  </thead>\n",
       "  <tbody>\n",
       "    <tr>\n",
       "      <th>0</th>\n",
       "      <td>1</td>\n",
       "      <td>5142190439</td>\n",
       "      <td>1/1/10</td>\n",
       "      <td>5509006296254</td>\n",
       "      <td>FEDEX SHP 12/23/09 AB#</td>\n",
       "      <td>TN</td>\n",
       "      <td>38118.0</td>\n",
       "      <td>P</td>\n",
       "      <td>3.62</td>\n",
       "      <td>0</td>\n",
       "    </tr>\n",
       "    <tr>\n",
       "      <th>1</th>\n",
       "      <td>2</td>\n",
       "      <td>5142183973</td>\n",
       "      <td>1/1/10</td>\n",
       "      <td>61003026333</td>\n",
       "      <td>SERVICE MERCHANDISE #81</td>\n",
       "      <td>MA</td>\n",
       "      <td>1803.0</td>\n",
       "      <td>P</td>\n",
       "      <td>31.42</td>\n",
       "      <td>0</td>\n",
       "    </tr>\n",
       "    <tr>\n",
       "      <th>2</th>\n",
       "      <td>3</td>\n",
       "      <td>5142131721</td>\n",
       "      <td>1/1/10</td>\n",
       "      <td>4503082993600</td>\n",
       "      <td>OFFICE DEPOT #191</td>\n",
       "      <td>MD</td>\n",
       "      <td>20706.0</td>\n",
       "      <td>P</td>\n",
       "      <td>178.49</td>\n",
       "      <td>0</td>\n",
       "    </tr>\n",
       "    <tr>\n",
       "      <th>3</th>\n",
       "      <td>4</td>\n",
       "      <td>5142148452</td>\n",
       "      <td>1/1/10</td>\n",
       "      <td>5509006296254</td>\n",
       "      <td>FEDEX SHP 12/28/09 AB#</td>\n",
       "      <td>TN</td>\n",
       "      <td>38118.0</td>\n",
       "      <td>P</td>\n",
       "      <td>3.62</td>\n",
       "      <td>0</td>\n",
       "    </tr>\n",
       "    <tr>\n",
       "      <th>4</th>\n",
       "      <td>5</td>\n",
       "      <td>5142190439</td>\n",
       "      <td>1/1/10</td>\n",
       "      <td>5509006296254</td>\n",
       "      <td>FEDEX SHP 12/23/09 AB#</td>\n",
       "      <td>TN</td>\n",
       "      <td>38118.0</td>\n",
       "      <td>P</td>\n",
       "      <td>3.62</td>\n",
       "      <td>0</td>\n",
       "    </tr>\n",
       "  </tbody>\n",
       "</table>\n",
       "</div>"
      ],
      "text/plain": [
       "   Recnum     Cardnum    Date       Merchnum        Merch description  \\\n",
       "0       1  5142190439  1/1/10  5509006296254   FEDEX SHP 12/23/09 AB#   \n",
       "1       2  5142183973  1/1/10    61003026333  SERVICE MERCHANDISE #81   \n",
       "2       3  5142131721  1/1/10  4503082993600        OFFICE DEPOT #191   \n",
       "3       4  5142148452  1/1/10  5509006296254   FEDEX SHP 12/28/09 AB#   \n",
       "4       5  5142190439  1/1/10  5509006296254   FEDEX SHP 12/23/09 AB#   \n",
       "\n",
       "  Merch state  Merch zip Transtype  Amount  Fraud  \n",
       "0          TN    38118.0         P    3.62      0  \n",
       "1          MA     1803.0         P   31.42      0  \n",
       "2          MD    20706.0         P  178.49      0  \n",
       "3          TN    38118.0         P    3.62      0  \n",
       "4          TN    38118.0         P    3.62      0  "
      ]
     },
     "execution_count": 6,
     "metadata": {},
     "output_type": "execute_result"
    }
   ],
   "source": [
    "df_clean = df_clean.reset_index()\n",
    "df_clean = df_clean[df_clean.columns[1:]]\n",
    "df_clean.head()"
   ]
  },
  {
   "cell_type": "code",
   "execution_count": 7,
   "id": "resistant-dispute",
   "metadata": {},
   "outputs": [
    {
     "name": "stdout",
     "output_type": "stream",
     "text": [
      "<class 'pandas.core.frame.DataFrame'>\n",
      "RangeIndex: 96397 entries, 0 to 96396\n",
      "Data columns (total 10 columns):\n",
      " #   Column             Non-Null Count  Dtype  \n",
      "---  ------             --------------  -----  \n",
      " 0   Recnum             96397 non-null  int64  \n",
      " 1   Cardnum            96397 non-null  int64  \n",
      " 2   Date               96397 non-null  object \n",
      " 3   Merchnum           93199 non-null  object \n",
      " 4   Merch description  96397 non-null  object \n",
      " 5   Merch state        95377 non-null  object \n",
      " 6   Merch zip          92097 non-null  float64\n",
      " 7   Transtype          96397 non-null  object \n",
      " 8   Amount             96397 non-null  float64\n",
      " 9   Fraud              96397 non-null  int64  \n",
      "dtypes: float64(2), int64(3), object(5)\n",
      "memory usage: 7.4+ MB\n"
     ]
    }
   ],
   "source": [
    "df_clean.info()"
   ]
  },
  {
   "cell_type": "code",
   "execution_count": 8,
   "id": "skilled-designation",
   "metadata": {},
   "outputs": [
    {
     "name": "stdout",
     "output_type": "stream",
     "text": [
      "1020\n",
      "977\n",
      "293\n"
     ]
    }
   ],
   "source": [
    "#fill in missing: Merch state\n",
    "missing_state = np.where(pd.isnull(df_clean['Merch state']))[0]\n",
    "print(len(missing_state))\n",
    "#If the record has a zip, use the state for that zip, if known\n",
    "zip_state = df_clean.groupby(['Merch zip', 'Merch state']).count().reset_index()[['Merch zip', 'Merch state']]\n",
    "zip_state.drop_duplicates(subset =\"Merch zip\",keep = False, inplace = True)\n",
    "zip_state = zip_state.reset_index()\n",
    "\n",
    "miss_state_zip = []\n",
    "for idx in missing_state:\n",
    "    if math.isnan(df_clean.loc[idx, 'Merch zip']):\n",
    "        miss_state_zip.append(idx)\n",
    "    else:\n",
    "        if df_clean.loc[idx, 'Merch zip'] in zip_state['Merch zip'].values:\n",
    "            zipcode = df_clean.loc[idx, 'Merch zip']\n",
    "            df_clean.loc[idx, 'Merch state'] = zip_state[zip_state['Merch zip'] == zipcode]['Merch state'].values[0]\n",
    "            \n",
    "        #If in range 00600 – 00799, 00900 – 00999: state = PR (Puerto Rico) \n",
    "        elif (df_clean.loc[idx, 'Merch zip'] >= 600 and df_clean.loc[idx, 'Merch zip'] <= 799) | (df_clean.loc[idx, 'Merch zip'] >= 900 and df_clean.loc[idx, 'Merch zip'] <= 999):\n",
    "            df_clean.loc[idx, 'Merch state'] = 'PR'\n",
    "        else:\n",
    "            miss_state_zip.append(idx)\n",
    "            \n",
    "print(len(miss_state_zip))        \n",
    "\n",
    "\n",
    "#Use the mode of the Merchnum or Merch description\n",
    "merchnum_group = df_clean.groupby('Merchnum')['Merch state'].agg(pd.Series.mode).reset_index()\n",
    "merdesc_group = df_clean.groupby('Merch description')['Merch state'].agg(pd.Series.mode).reset_index()\n",
    "\n",
    "miss_merch = []\n",
    "for idx in miss_state_zip:\n",
    "    if df_clean.loc[idx, 'Merchnum'] in [np.nan] :\n",
    "        if df_clean.loc[idx, 'Merch description'] in merdesc_group['Merch description'].values:\n",
    "            descode = df_clean.loc[idx, 'Merch description']\n",
    "            if type(merdesc_group[merdesc_group['Merch description'] == descode]['Merch state'].values[0]) == str:\n",
    "                df_clean.loc[idx, 'Merch state'] = merdesc_group[merdesc_group['Merch description'] == descode]['Merch state'].values[0]\n",
    "            else:\n",
    "                miss_merch.append(idx)\n",
    "        else:\n",
    "            miss_merch.append(idx)\n",
    "    else:\n",
    "        if df_clean.loc[idx, 'Merchnum'] in merchnum_group['Merchnum'].values:\n",
    "            numcode = df_clean.loc[idx, 'Merchnum']\n",
    "            if type(merchnum_group[merchnum_group['Merchnum'] == numcode]['Merch state'].values[0]) == str:\n",
    "                df_clean.loc[idx, 'Merch state'] = merchnum_group[merchnum_group['Merchnum'] == numcode]['Merch state'].values[0]\n",
    "            else:\n",
    "                miss_merch.append(idx)\n",
    "                \n",
    "        else:\n",
    "            if df_clean.loc[idx, 'Merch description'] in merdesc_group['Merch description'].values:\n",
    "                descode = df_clean.loc[idx, 'Merch description']\n",
    "                if type(merdesc_group[merdesc_group['Merch description'] == descode]['Merch state'].values[0]) == str:\n",
    "                    df_clean.loc[idx, 'Merch state'] = merdesc_group[merdesc_group['Merch description'] == descode]['Merch state'].values[0]\n",
    "                else:\n",
    "                    miss_merch.append(idx)\n",
    "            else:\n",
    "                miss_merch.append(idx)\n",
    "                    \n",
    "print(len(miss_merch)) \n",
    "\n",
    "#Fill in with “Unk” for unknown\n",
    "for idx in miss_merch:\n",
    "    df_clean.loc[idx, 'Merch state'] = 'Unk'"
   ]
  },
  {
   "cell_type": "code",
   "execution_count": 9,
   "id": "conservative-paper",
   "metadata": {},
   "outputs": [
    {
     "data": {
      "text/plain": [
       "0"
      ]
     },
     "execution_count": 9,
     "metadata": {},
     "output_type": "execute_result"
    }
   ],
   "source": [
    "sum(df_clean['Merch state'].isnull())"
   ]
  },
  {
   "cell_type": "code",
   "execution_count": 10,
   "id": "amended-disease",
   "metadata": {},
   "outputs": [
    {
     "name": "stdout",
     "output_type": "stream",
     "text": [
      "53\n",
      "3251\n",
      "2096\n"
     ]
    }
   ],
   "source": [
    "#fill in Merchnum:\n",
    "#If = 0, replace with NaN\n",
    "zero_idx = df_clean[(df_clean.Merchnum == '0')].index\n",
    "print(len(zero_idx))\n",
    "df_clean.loc[zero_idx, 'Merchnum'] = np.nan\n",
    "\n",
    "#Fill in with mode of Merch description\n",
    "missing_num = np.where(pd.isnull(df_clean['Merchnum']))[0]\n",
    "print(len(missing_num))\n",
    "\n",
    "merdesc_num = df_clean.groupby('Merch description')['Merchnum'].agg(pd.Series.mode).reset_index()\n",
    "\n",
    "miss_desc = []\n",
    "for idx in missing_num:\n",
    "    if df_clean.loc[idx, 'Merch description'] in merdesc_num['Merch description'].values:\n",
    "            descode = df_clean.loc[idx, 'Merch description']\n",
    "            if type(merdesc_num[merdesc_num['Merch description'] == descode]['Merchnum'].values[0]) == str:\n",
    "                df_clean.loc[idx, 'Merchnum'] = merdesc_num[merdesc_num['Merch description'] == descode]['Merchnum'].values[0]\n",
    "            else:\n",
    "                miss_desc.append(idx)\n",
    "    else:\n",
    "        miss_desc.append(idx)\n",
    "        \n",
    "print(len(miss_desc))\n",
    "\n",
    "#Fill in with unknown\n",
    "for idx in miss_desc:\n",
    "    df_clean.loc[idx, 'Merchnum'] = 'Unk'"
   ]
  },
  {
   "cell_type": "code",
   "execution_count": 11,
   "id": "bridal-pastor",
   "metadata": {},
   "outputs": [
    {
     "data": {
      "text/plain": [
       "0"
      ]
     },
     "execution_count": 11,
     "metadata": {},
     "output_type": "execute_result"
    }
   ],
   "source": [
    "sum(df_clean['Merchnum'].isnull())"
   ]
  },
  {
   "cell_type": "code",
   "execution_count": 12,
   "id": "utility-williams",
   "metadata": {},
   "outputs": [
    {
     "name": "stdout",
     "output_type": "stream",
     "text": [
      "3251\n",
      "1104\n"
     ]
    }
   ],
   "source": [
    "#fill in Merch zip\n",
    "missing_zip = np.where(pd.isnull(df_clean['Merch zip']))[0]\n",
    "print(len(missing_num))\n",
    "#Fill in with mode of merchant number\n",
    "merchnum_zip = df_clean.groupby('Merchnum')['Merch zip'].agg(pd.Series.mode).reset_index()\n",
    "\n",
    "miss_num_zip = []\n",
    "for idx in missing_zip:\n",
    "    if df_clean.loc[idx, 'Merchnum'] in merchnum_zip['Merchnum'].values:\n",
    "            numcode = df_clean.loc[idx, 'Merchnum']\n",
    "            if type(merchnum_zip[merchnum_zip['Merchnum'] == numcode]['Merch zip'].values[0]) != np.ndarray:\n",
    "                df_clean.loc[idx, 'Merch zip'] = merchnum_zip[merchnum_zip['Merchnum'] == numcode]['Merch zip'].values[0]\n",
    "            else:\n",
    "                miss_num_zip.append(idx)\n",
    "    else:\n",
    "        miss_num_zip.append(idx)\n",
    "        \n",
    "print(len(miss_num_zip))\n",
    "\n",
    "#Fill in with unknown\n",
    "for idx in miss_num_zip:\n",
    "    df_clean.loc[idx, 'Merch zip'] = 'Unk'"
   ]
  },
  {
   "cell_type": "code",
   "execution_count": 13,
   "id": "imposed-figure",
   "metadata": {},
   "outputs": [
    {
     "data": {
      "text/plain": [
       "0"
      ]
     },
     "execution_count": 13,
     "metadata": {},
     "output_type": "execute_result"
    }
   ],
   "source": [
    "sum(df_clean['Merch zip'].isnull())"
   ]
  },
  {
   "cell_type": "markdown",
   "id": "atlantic-yesterday",
   "metadata": {},
   "source": [
    "## Create Variables"
   ]
  },
  {
   "cell_type": "code",
   "execution_count": 14,
   "id": "tutorial-disease",
   "metadata": {},
   "outputs": [
    {
     "data": {
      "text/html": [
       "<div>\n",
       "<style scoped>\n",
       "    .dataframe tbody tr th:only-of-type {\n",
       "        vertical-align: middle;\n",
       "    }\n",
       "\n",
       "    .dataframe tbody tr th {\n",
       "        vertical-align: top;\n",
       "    }\n",
       "\n",
       "    .dataframe thead th {\n",
       "        text-align: right;\n",
       "    }\n",
       "</style>\n",
       "<table border=\"1\" class=\"dataframe\">\n",
       "  <thead>\n",
       "    <tr style=\"text-align: right;\">\n",
       "      <th></th>\n",
       "      <th>Recnum</th>\n",
       "      <th>Cardnum</th>\n",
       "      <th>Date</th>\n",
       "      <th>Merchnum</th>\n",
       "      <th>Merch description</th>\n",
       "      <th>Merch state</th>\n",
       "      <th>Merch zip</th>\n",
       "      <th>Transtype</th>\n",
       "      <th>Amount</th>\n",
       "      <th>Fraud</th>\n",
       "    </tr>\n",
       "  </thead>\n",
       "  <tbody>\n",
       "    <tr>\n",
       "      <th>0</th>\n",
       "      <td>1</td>\n",
       "      <td>5142190439</td>\n",
       "      <td>1/1/10</td>\n",
       "      <td>5509006296254</td>\n",
       "      <td>FEDEX SHP 12/23/09 AB#</td>\n",
       "      <td>TN</td>\n",
       "      <td>38118.0</td>\n",
       "      <td>P</td>\n",
       "      <td>3.62</td>\n",
       "      <td>0</td>\n",
       "    </tr>\n",
       "    <tr>\n",
       "      <th>1</th>\n",
       "      <td>2</td>\n",
       "      <td>5142183973</td>\n",
       "      <td>1/1/10</td>\n",
       "      <td>61003026333</td>\n",
       "      <td>SERVICE MERCHANDISE #81</td>\n",
       "      <td>MA</td>\n",
       "      <td>1803.0</td>\n",
       "      <td>P</td>\n",
       "      <td>31.42</td>\n",
       "      <td>0</td>\n",
       "    </tr>\n",
       "    <tr>\n",
       "      <th>2</th>\n",
       "      <td>3</td>\n",
       "      <td>5142131721</td>\n",
       "      <td>1/1/10</td>\n",
       "      <td>4503082993600</td>\n",
       "      <td>OFFICE DEPOT #191</td>\n",
       "      <td>MD</td>\n",
       "      <td>20706.0</td>\n",
       "      <td>P</td>\n",
       "      <td>178.49</td>\n",
       "      <td>0</td>\n",
       "    </tr>\n",
       "    <tr>\n",
       "      <th>3</th>\n",
       "      <td>4</td>\n",
       "      <td>5142148452</td>\n",
       "      <td>1/1/10</td>\n",
       "      <td>5509006296254</td>\n",
       "      <td>FEDEX SHP 12/28/09 AB#</td>\n",
       "      <td>TN</td>\n",
       "      <td>38118.0</td>\n",
       "      <td>P</td>\n",
       "      <td>3.62</td>\n",
       "      <td>0</td>\n",
       "    </tr>\n",
       "    <tr>\n",
       "      <th>4</th>\n",
       "      <td>5</td>\n",
       "      <td>5142190439</td>\n",
       "      <td>1/1/10</td>\n",
       "      <td>5509006296254</td>\n",
       "      <td>FEDEX SHP 12/23/09 AB#</td>\n",
       "      <td>TN</td>\n",
       "      <td>38118.0</td>\n",
       "      <td>P</td>\n",
       "      <td>3.62</td>\n",
       "      <td>0</td>\n",
       "    </tr>\n",
       "  </tbody>\n",
       "</table>\n",
       "</div>"
      ],
      "text/plain": [
       "   Recnum     Cardnum    Date       Merchnum        Merch description  \\\n",
       "0       1  5142190439  1/1/10  5509006296254   FEDEX SHP 12/23/09 AB#   \n",
       "1       2  5142183973  1/1/10    61003026333  SERVICE MERCHANDISE #81   \n",
       "2       3  5142131721  1/1/10  4503082993600        OFFICE DEPOT #191   \n",
       "3       4  5142148452  1/1/10  5509006296254   FEDEX SHP 12/28/09 AB#   \n",
       "4       5  5142190439  1/1/10  5509006296254   FEDEX SHP 12/23/09 AB#   \n",
       "\n",
       "  Merch state Merch zip Transtype  Amount  Fraud  \n",
       "0          TN   38118.0         P    3.62      0  \n",
       "1          MA    1803.0         P   31.42      0  \n",
       "2          MD   20706.0         P  178.49      0  \n",
       "3          TN   38118.0         P    3.62      0  \n",
       "4          TN   38118.0         P    3.62      0  "
      ]
     },
     "execution_count": 14,
     "metadata": {},
     "output_type": "execute_result"
    }
   ],
   "source": [
    "df_variable = df_clean.copy()#.head()\n",
    "df_variable.head()"
   ]
  },
  {
   "cell_type": "code",
   "execution_count": 15,
   "id": "positive-variation",
   "metadata": {},
   "outputs": [],
   "source": [
    "#1. weekday variable\n",
    "df_variable.Date = pd.to_datetime(df_variable.Date)\n",
    "df_variable['weekday'] = df_variable.Date.dt.day_name()"
   ]
  },
  {
   "cell_type": "markdown",
   "id": "alive-sherman",
   "metadata": {},
   "source": [
    "### Encoding target variables (2)"
   ]
  },
  {
   "cell_type": "code",
   "execution_count": 16,
   "id": "worldwide-roman",
   "metadata": {},
   "outputs": [],
   "source": [
    "#Include two target encoded variables: \n",
    "#likelihood of fraud for that day of the week and for that state. Don’t use the OOT data to calculate these 2 variables.\n",
    "\n",
    "train_test = df_variable[df_variable.Date <= '2010-8-31']\n",
    "day_prob = train_test.groupby('weekday')['Fraud'].mean().reset_index().rename(columns = {'Fraud':'day_prob'})\n",
    "df_variable = df_variable.merge(day_prob, how='left', on='weekday')"
   ]
  },
  {
   "cell_type": "code",
   "execution_count": 17,
   "id": "assumed-receipt",
   "metadata": {},
   "outputs": [],
   "source": [
    "state_prob = train_test.groupby('Merch state')['Fraud'].mean().reset_index().rename(columns = {'Fraud':'state_prob'})\n",
    "df_variable = df_variable.merge(state_prob, how='left', on='Merch state')"
   ]
  },
  {
   "cell_type": "code",
   "execution_count": 18,
   "id": "promising-benjamin",
   "metadata": {},
   "outputs": [],
   "source": [
    "prob = df_variable.columns[-2:]"
   ]
  },
  {
   "cell_type": "markdown",
   "id": "headed-charles",
   "metadata": {},
   "source": [
    "### Amount +frequency variables (5 * 7 * 2 * 6)"
   ]
  },
  {
   "cell_type": "code",
   "execution_count": 19,
   "id": "developed-denver",
   "metadata": {},
   "outputs": [],
   "source": [
    "df_variable['days'] = 0\n",
    "day = 1\n",
    "for i in range(len(df_variable)-1):\n",
    "    if df_variable.loc[i, 'weekday'] == df_variable.loc[i+1, 'weekday']:\n",
    "        df_variable.loc[i, 'days'] = day\n",
    "    else:\n",
    "        df_variable.loc[i, 'days'] = day\n",
    "        day=day+1\n"
   ]
  },
  {
   "cell_type": "code",
   "execution_count": 20,
   "id": "unauthorized-referral",
   "metadata": {},
   "outputs": [],
   "source": [
    "df_variable.loc[96396, 'days'] = 365\n",
    "df_variable['2_day'] = np.ceil(df_variable['days']/2)\n",
    "df_variable['3_day'] = np.ceil(df_variable['days']/3)\n",
    "df_variable['7_day'] = np.ceil(df_variable['days']/7)\n",
    "df_variable['14_day'] = np.ceil(df_variable['days']/14)\n",
    "df_variable['30_day'] = np.ceil(df_variable['days']/30)\n"
   ]
  },
  {
   "cell_type": "code",
   "execution_count": 21,
   "id": "fourth-demonstration",
   "metadata": {},
   "outputs": [],
   "source": [
    "#1 day\n",
    "method = ['mean', 'max', 'median', 'sum', 'count']\n",
    "\n",
    "card_1 = df_variable.groupby(['days', 'Cardnum'])['Amount'].agg(method).add_prefix('card_1_').reset_index()\n",
    "df_variable = df_variable.merge(card_1, how = 'left', on=['days', 'Cardnum'])\n",
    "\n",
    "Merchnum_1 = df_variable.groupby(['days', 'Merchnum'])['Amount'].agg(method).add_prefix('Merchnum_1_').reset_index()\n",
    "df_variable = df_variable.merge(Merchnum_1, how = 'left', on=['days', 'Merchnum'])\n",
    "\n",
    "MerchDesc_1 = df_variable.groupby(['days', 'Merch description'])['Amount'].agg(method).add_prefix('MerchDesc_1_').reset_index()\n",
    "df_variable = df_variable.merge(MerchDesc_1, how = 'left', on=['days', 'Merch description'])\n",
    "\n",
    "CMN_1 = df_variable.groupby(['days', 'Cardnum', 'Merchnum'])['Amount'].agg(method).add_prefix('CMN_1_').reset_index()\n",
    "df_variable = df_variable.merge(CMN_1, how = 'left', on=['days', 'Cardnum', 'Merchnum'])\n",
    "\n",
    "CMDesc_1 = df_variable.groupby(['days', 'Cardnum', 'Merch description'])['Amount'].agg(method).add_prefix('CMDesc_1_').reset_index()\n",
    "df_variable = df_variable.merge(CMDesc_1, how = 'left', on=['days', 'Cardnum', 'Merch description'])\n",
    "\n",
    "CZip_1 = df_variable.groupby(['days', 'Cardnum', 'Merch zip'])['Amount'].agg(method).add_prefix('CZip_1_').reset_index()\n",
    "df_variable = df_variable.merge(CZip_1, how = 'left', on=['days', 'Cardnum', 'Merch zip'])\n",
    "\n",
    "CState_1 = df_variable.groupby(['days', 'Cardnum', 'Merch state'])['Amount'].agg(method).add_prefix('CState_1_').reset_index()\n",
    "df_variable = df_variable.merge(CState_1, how = 'left', on=['days', 'Cardnum', 'Merch state'])\n"
   ]
  },
  {
   "cell_type": "code",
   "execution_count": 22,
   "id": "stainless-muslim",
   "metadata": {},
   "outputs": [],
   "source": [
    "amount1 = df_variable.columns[-35:]"
   ]
  },
  {
   "cell_type": "code",
   "execution_count": 23,
   "id": "prerequisite-medline",
   "metadata": {},
   "outputs": [],
   "source": [
    "for col in df_variable.columns[-35:]:\n",
    "    name = 'Actual_' + col\n",
    "    df_variable[name] = df_variable['Amount'] / df_variable[col]"
   ]
  },
  {
   "cell_type": "code",
   "execution_count": 24,
   "id": "interested-roller",
   "metadata": {},
   "outputs": [],
   "source": [
    "#Amount Variables\n",
    "#2 days\n",
    "card_2 = df_variable.groupby(['2_day', 'Cardnum'])['Amount'].agg(method).add_prefix('card_2_').reset_index()\n",
    "df_variable = df_variable.merge(card_2, how = 'left', on=['2_day', 'Cardnum'])\n",
    "\n",
    "Merchnum_2 = df_variable.groupby(['2_day', 'Merchnum'])['Amount'].agg(method).add_prefix('Merchnum_2_').reset_index()\n",
    "df_variable = df_variable.merge(Merchnum_2, how = 'left', on=['2_day', 'Merchnum'])\n",
    "\n",
    "MerchDesc_2 = df_variable.groupby(['2_day', 'Merch description'])['Amount'].agg(method).add_prefix('MerchDesc_2_').reset_index()\n",
    "df_variable = df_variable.merge(MerchDesc_2, how = 'left', on=['2_day', 'Merch description'])\n",
    "\n",
    "CMN_2 = df_variable.groupby(['2_day', 'Cardnum', 'Merchnum'])['Amount'].agg(method).add_prefix('CMN_2_').reset_index()\n",
    "df_variable = df_variable.merge(CMN_2, how = 'left', on=['2_day', 'Cardnum', 'Merchnum'])\n",
    "\n",
    "CMDesc_2 = df_variable.groupby(['2_day', 'Cardnum', 'Merch description'])['Amount'].agg(method).add_prefix('CMDesc_2_').reset_index()\n",
    "df_variable = df_variable.merge(CMDesc_2, how = 'left', on=['2_day', 'Cardnum', 'Merch description'])\n",
    "\n",
    "CZip_2 = df_variable.groupby(['2_day', 'Cardnum', 'Merch zip'])['Amount'].agg(method).add_prefix('CZip_2_').reset_index()\n",
    "df_variable = df_variable.merge(CZip_2, how = 'left', on=['2_day', 'Cardnum', 'Merch zip'])\n",
    "\n",
    "CState_2 = df_variable.groupby(['2_day', 'Cardnum', 'Merch state'])['Amount'].agg(method).add_prefix('CState_2_').reset_index()\n",
    "df_variable = df_variable.merge(CState_2, how = 'left', on=['2_day', 'Cardnum', 'Merch state'])"
   ]
  },
  {
   "cell_type": "code",
   "execution_count": 25,
   "id": "civil-float",
   "metadata": {},
   "outputs": [],
   "source": [
    "amount2 = df_variable.columns[-35:]"
   ]
  },
  {
   "cell_type": "code",
   "execution_count": 26,
   "id": "special-packing",
   "metadata": {},
   "outputs": [],
   "source": [
    "for col in df_variable.columns[-35:]:\n",
    "    name = 'Actual_' + col\n",
    "    df_variable[name] = df_variable['Amount'] / df_variable[col]"
   ]
  },
  {
   "cell_type": "code",
   "execution_count": 27,
   "id": "circular-photograph",
   "metadata": {},
   "outputs": [],
   "source": [
    "#Amount Variables\n",
    "#3 days\n",
    "\n",
    "\n",
    "card_3 = df_variable.groupby(['3_day', 'Cardnum'])['Amount'].agg(method).add_prefix('card_3_').reset_index()\n",
    "df_variable = df_variable.merge(card_3, how = 'left', on=['3_day', 'Cardnum'])\n",
    "\n",
    "Merchnum_3= df_variable.groupby(['3_day', 'Merchnum'])['Amount'].agg(method).add_prefix('Merchnum_3_').reset_index()\n",
    "df_variable = df_variable.merge(Merchnum_3, how = 'left', on=['3_day', 'Merchnum'])\n",
    "\n",
    "MerchDesc_3 = df_variable.groupby(['3_day', 'Merch description'])['Amount'].agg(method).add_prefix('MerchDesc_3_').reset_index()\n",
    "df_variable = df_variable.merge(MerchDesc_3, how = 'left', on=['3_day', 'Merch description'])\n",
    "\n",
    "CMN_3 = df_variable.groupby(['3_day', 'Cardnum', 'Merchnum'])['Amount'].agg(method).add_prefix('CMN_3_').reset_index()\n",
    "df_variable = df_variable.merge(CMN_3, how = 'left', on=['3_day', 'Cardnum', 'Merchnum'])\n",
    "\n",
    "CMDesc_3 = df_variable.groupby(['3_day', 'Cardnum', 'Merch description'])['Amount'].agg(method).add_prefix('CMDesc_3_').reset_index()\n",
    "df_variable = df_variable.merge(CMDesc_3, how = 'left', on=['3_day', 'Cardnum', 'Merch description'])\n",
    "\n",
    "CZip_3 = df_variable.groupby(['3_day', 'Cardnum', 'Merch zip'])['Amount'].agg(method).add_prefix('CZip_3_').reset_index()\n",
    "df_variable = df_variable.merge(CZip_3, how = 'left', on=['3_day', 'Cardnum', 'Merch zip'])\n",
    "\n",
    "CState_3 = df_variable.groupby(['3_day', 'Cardnum', 'Merch state'])['Amount'].agg(method).add_prefix('CState_3_').reset_index()\n",
    "df_variable = df_variable.merge(CState_3, how = 'left', on=['3_day', 'Cardnum', 'Merch state'])"
   ]
  },
  {
   "cell_type": "code",
   "execution_count": 28,
   "id": "conscious-accent",
   "metadata": {},
   "outputs": [],
   "source": [
    "amount3 = df_variable.columns[-35:]"
   ]
  },
  {
   "cell_type": "code",
   "execution_count": 29,
   "id": "textile-spray",
   "metadata": {},
   "outputs": [],
   "source": [
    "for col in df_variable.columns[-35:]:\n",
    "    name = 'Actual_' + col\n",
    "    df_variable[name] = df_variable['Amount'] / df_variable[col]"
   ]
  },
  {
   "cell_type": "code",
   "execution_count": 30,
   "id": "hispanic-monitor",
   "metadata": {},
   "outputs": [],
   "source": [
    "#Amount variables\n",
    "#7 days\n",
    "\n",
    "card_7 = df_variable.groupby(['7_day', 'Cardnum'])['Amount'].agg(method).add_prefix('card_7_').reset_index()\n",
    "df_variable = df_variable.merge(card_7, how = 'left', on=['7_day', 'Cardnum'])\n",
    "\n",
    "Merchnum_7= df_variable.groupby(['7_day', 'Merchnum'])['Amount'].agg(method).add_prefix('Merchnum_7_').reset_index()\n",
    "df_variable = df_variable.merge(Merchnum_7, how = 'left', on=['7_day', 'Merchnum'])\n",
    "\n",
    "MerchDesc_7 = df_variable.groupby(['7_day', 'Merch description'])['Amount'].agg(method).add_prefix('MerchDesc_7_').reset_index()\n",
    "df_variable = df_variable.merge(MerchDesc_7, how = 'left', on=['7_day', 'Merch description'])\n",
    "\n",
    "CMN_7 = df_variable.groupby(['7_day', 'Cardnum', 'Merchnum'])['Amount'].agg(method).add_prefix('CMN_7_').reset_index()\n",
    "df_variable = df_variable.merge(CMN_7, how = 'left', on=['7_day', 'Cardnum', 'Merchnum'])\n",
    "\n",
    "CMDesc_7 = df_variable.groupby(['7_day', 'Cardnum', 'Merch description'])['Amount'].agg(method).add_prefix('CMDesc_7_').reset_index()\n",
    "df_variable = df_variable.merge(CMDesc_7, how = 'left', on=['7_day', 'Cardnum', 'Merch description'])\n",
    "\n",
    "CZip_7 = df_variable.groupby(['7_day', 'Cardnum', 'Merch zip'])['Amount'].agg(method).add_prefix('CZip_7_').reset_index()\n",
    "df_variable = df_variable.merge(CZip_7, how = 'left', on=['7_day', 'Cardnum', 'Merch zip'])\n",
    "\n",
    "CState_7 = df_variable.groupby(['7_day', 'Cardnum', 'Merch state'])['Amount'].agg(method).add_prefix('CState_7_').reset_index()\n",
    "df_variable = df_variable.merge(CState_7, how = 'left', on=['7_day', 'Cardnum', 'Merch state'])\n"
   ]
  },
  {
   "cell_type": "code",
   "execution_count": 31,
   "id": "chinese-longer",
   "metadata": {},
   "outputs": [],
   "source": [
    "amount7 = df_variable.columns[-35:]"
   ]
  },
  {
   "cell_type": "code",
   "execution_count": 32,
   "id": "fitted-circuit",
   "metadata": {},
   "outputs": [],
   "source": [
    "for col in df_variable.columns[-35:]:\n",
    "    name = 'Actual_' + col\n",
    "    df_variable[name] = df_variable['Amount'] / df_variable[col]"
   ]
  },
  {
   "cell_type": "code",
   "execution_count": 33,
   "id": "clean-tension",
   "metadata": {},
   "outputs": [],
   "source": [
    "#Amount variables\n",
    "#14 days\n",
    "\n",
    "card_14 = df_variable.groupby(['14_day', 'Cardnum'])['Amount'].agg(method).add_prefix('card_14_').reset_index()\n",
    "df_variable = df_variable.merge(card_14, how = 'left', on=['14_day', 'Cardnum'])\n",
    "\n",
    "Merchnum_14= df_variable.groupby(['14_day', 'Merchnum'])['Amount'].agg(method).add_prefix('Merchnum_14_').reset_index()\n",
    "df_variable = df_variable.merge(Merchnum_14, how = 'left', on=['14_day', 'Merchnum'])\n",
    "\n",
    "MerchDesc_14 = df_variable.groupby(['14_day', 'Merch description'])['Amount'].agg(method).add_prefix('MerchDesc_14_').reset_index()\n",
    "df_variable = df_variable.merge(MerchDesc_14, how = 'left', on=['14_day', 'Merch description'])\n",
    "\n",
    "\n",
    "CMN_14 = df_variable.groupby(['14_day', 'Cardnum', 'Merchnum'])['Amount'].agg(method).add_prefix('CMN_14_').reset_index()\n",
    "df_variable = df_variable.merge(CMN_14, how = 'left', on=['14_day', 'Cardnum', 'Merchnum'])\n",
    "\n",
    "CMDesc_14 = df_variable.groupby(['14_day', 'Cardnum', 'Merch description'])['Amount'].agg(method).add_prefix('CMDesc_14_').reset_index()\n",
    "df_variable = df_variable.merge(CMDesc_14, how = 'left', on=['14_day', 'Cardnum', 'Merch description'])\n",
    "\n",
    "CZip_14 = df_variable.groupby(['14_day', 'Cardnum', 'Merch zip'])['Amount'].agg(method).add_prefix('CZip_14_').reset_index()\n",
    "df_variable = df_variable.merge(CZip_14, how = 'left', on=['14_day', 'Cardnum', 'Merch zip'])\n",
    "\n",
    "CState_14 = df_variable.groupby(['14_day', 'Cardnum', 'Merch state'])['Amount'].agg(method).add_prefix('CState_14_').reset_index()\n",
    "df_variable = df_variable.merge(CState_14, how = 'left', on=['14_day', 'Cardnum', 'Merch state'])\n"
   ]
  },
  {
   "cell_type": "code",
   "execution_count": 34,
   "id": "modular-effect",
   "metadata": {},
   "outputs": [],
   "source": [
    "amount14 = df_variable.columns[-35:]"
   ]
  },
  {
   "cell_type": "code",
   "execution_count": 35,
   "id": "offensive-employer",
   "metadata": {},
   "outputs": [],
   "source": [
    "for col in df_variable.columns[-35:]:\n",
    "    name = 'Actual_' + col\n",
    "    df_variable[name] = df_variable['Amount'] / df_variable[col]"
   ]
  },
  {
   "cell_type": "code",
   "execution_count": 36,
   "id": "alien-texture",
   "metadata": {},
   "outputs": [],
   "source": [
    "#Amount variables\n",
    "#30 days\n",
    "\n",
    "card_30 = df_variable.groupby(['30_day', 'Cardnum'])['Amount'].agg(method).add_prefix('card_30_').reset_index()\n",
    "df_variable = df_variable.merge(card_30, how = 'left', on=['30_day', 'Cardnum'])\n",
    "\n",
    "Merchnum_30= df_variable.groupby(['30_day', 'Merchnum'])['Amount'].agg(method).add_prefix('Merchnum_30_').reset_index()\n",
    "df_variable = df_variable.merge(Merchnum_30, how = 'left', on=['30_day', 'Merchnum'])\n",
    "\n",
    "MerchDesc_30 = df_variable.groupby(['30_day', 'Merch description'])['Amount'].agg(method).add_prefix('MerchDesc_30_').reset_index()\n",
    "df_variable = df_variable.merge(MerchDesc_30, how = 'left', on=['30_day', 'Merch description'])\n",
    "\n",
    "CMN_30 = df_variable.groupby(['30_day', 'Cardnum', 'Merchnum'])['Amount'].agg(method).add_prefix('CMN_30_').reset_index()\n",
    "df_variable = df_variable.merge(CMN_30, how = 'left', on=['30_day', 'Cardnum', 'Merchnum'])\n",
    "\n",
    "CMDesc_30 = df_variable.groupby(['30_day', 'Cardnum', 'Merch description'])['Amount'].agg(method).add_prefix('CMDesc_30_').reset_index()\n",
    "df_variable = df_variable.merge(CMDesc_30, how = 'left', on=['30_day', 'Cardnum', 'Merch description'])\n",
    "\n",
    "CZip_30 = df_variable.groupby(['30_day', 'Cardnum', 'Merch zip'])['Amount'].agg(method).add_prefix('CZip_30_').reset_index()\n",
    "df_variable = df_variable.merge(CZip_30, how = 'left', on=['30_day', 'Cardnum', 'Merch zip'])\n",
    "\n",
    "CState_30 = df_variable.groupby(['30_day', 'Cardnum', 'Merch state'])['Amount'].agg(method).add_prefix('CState_30_').reset_index()\n",
    "df_variable = df_variable.merge(CState_30, how = 'left', on=['30_day', 'Cardnum', 'Merch state'])\n"
   ]
  },
  {
   "cell_type": "code",
   "execution_count": 37,
   "id": "contrary-beach",
   "metadata": {},
   "outputs": [],
   "source": [
    "amount30 = df_variable.columns[-35:]"
   ]
  },
  {
   "cell_type": "code",
   "execution_count": 38,
   "id": "focused-cycling",
   "metadata": {},
   "outputs": [],
   "source": [
    "for col in df_variable.columns[-35:]:\n",
    "    name = 'Actual_' + col\n",
    "    df_variable[name] = df_variable['Amount'] / df_variable[col]"
   ]
  },
  {
   "cell_type": "code",
   "execution_count": 39,
   "id": "intermediate-brazil",
   "metadata": {},
   "outputs": [
    {
     "data": {
      "text/plain": [
       "Index(['card_1_mean', 'card_1_max', 'card_1_median', 'card_1_sum',\n",
       "       'card_1_count', 'Merchnum_1_mean', 'Merchnum_1_max',\n",
       "       'Merchnum_1_median', 'Merchnum_1_sum', 'Merchnum_1_count',\n",
       "       ...\n",
       "       'Actual_CZip_30_mean', 'Actual_CZip_30_max', 'Actual_CZip_30_median',\n",
       "       'Actual_CZip_30_sum', 'Actual_CZip_30_count', 'Actual_CState_30_mean',\n",
       "       'Actual_CState_30_max', 'Actual_CState_30_median',\n",
       "       'Actual_CState_30_sum', 'Actual_CState_30_count'],\n",
       "      dtype='object', length=420)"
      ]
     },
     "execution_count": 39,
     "metadata": {},
     "output_type": "execute_result"
    }
   ],
   "source": [
    "Amount_freq = df_variable.columns[-420:]\n",
    "Amount_freq"
   ]
  },
  {
   "cell_type": "code",
   "execution_count": 40,
   "id": "british-sound",
   "metadata": {},
   "outputs": [],
   "source": [
    "exclude = []\n",
    "for var in Amount_freq:\n",
    "    turn = var.split('_')\n",
    "    if turn[0] == 'Actual' and turn[-1] == 'count':\n",
    "        exclude.append(var)"
   ]
  },
  {
   "cell_type": "code",
   "execution_count": 41,
   "id": "about-bibliography",
   "metadata": {},
   "outputs": [
    {
     "data": {
      "text/plain": [
       "378"
      ]
     },
     "execution_count": 41,
     "metadata": {},
     "output_type": "execute_result"
    }
   ],
   "source": [
    "Amount_freq_ud = []\n",
    "for var in Amount_freq:\n",
    "    if var not in exclude:\n",
    "        Amount_freq_ud.append(var)\n",
    "len(Amount_freq_ud)"
   ]
  },
  {
   "cell_type": "markdown",
   "id": "potential-college",
   "metadata": {},
   "source": [
    "### Days-since variables (6)"
   ]
  },
  {
   "cell_type": "code",
   "execution_count": 42,
   "id": "premier-steel",
   "metadata": {},
   "outputs": [],
   "source": [
    "df_variable['Merch zip'] = df_variable['Merch zip'].astype(str)\n",
    "df_variable['Cardnum'] = df_variable['Cardnum'].astype(object)"
   ]
  },
  {
   "cell_type": "code",
   "execution_count": 43,
   "id": "statistical-therapy",
   "metadata": {},
   "outputs": [],
   "source": [
    "method = ['max']\n",
    "\n",
    "def day_since(card, df, rsuffix, field1, field2, day):\n",
    "    name = 'days_since' + rsuffix\n",
    "    if name not in df.columns:\n",
    "        df[name] = 365\n",
    "    turn = df[df['days'] == day]  \n",
    "\n",
    "    if field2 == 0:\n",
    "        turn = turn.merge(card, how = 'left', on = field1)\n",
    "\n",
    "    else:\n",
    "        #print(card.info())\n",
    "        turn = turn.merge(card, how = 'left', on = [field1, field2])\n",
    "        \n",
    "    for j in range(len(turn)):\n",
    "        if turn.loc[j,'rec_date'] in [pd.NaT]:\n",
    "            turn.loc[j, 'rec_date']  = turn.loc[j, 'Date']\n",
    "            \n",
    "    turn.loc[:, name] = turn.loc[:, 'Date'] - turn.loc[:, 'rec_date']\n",
    "    turn.loc[:, name] = turn.loc[:, name]/ np.timedelta64(1, 'D')\n",
    "    turn[name] = turn[name].replace(0, 365)\n",
    "    turn = turn.set_index('Recnum')\n",
    "    return(turn[[name]])\n",
    "\n",
    "for i in range(364): #days=1~days=365\n",
    "    i+=1\n",
    "\n",
    "    past_df = df_variable[df_variable['days'] <= i]\n",
    "    \n",
    "    Card_ = past_df.groupby('Cardnum')['Date'].agg(method).reset_index().rename(columns={'max':'rec_date'})\n",
    "    test_c = day_since(Card_, df_variable, '_card', 'Cardnum', 0, i+1)\n",
    "    \n",
    "    Merchnum_= past_df.groupby(['Merchnum'])['Date'].agg(method).reset_index().rename(columns={'max':'rec_date'})\n",
    "    test_m1 = day_since(Merchnum_, df_variable, '_Merchnum', 'Merchnum', 0, i+1)\n",
    "    \n",
    "    MerchDesc_= past_df.groupby(['Merch description'])['Date'].agg(method).reset_index().rename(columns={'max':'rec_date'})\n",
    "    test_m2 = day_since(MerchDesc_, df_variable, '_MerchDesc', 'Merch description', 0, i+1)\n",
    "        \n",
    "    CMN_ = past_df.groupby(['Cardnum', 'Merchnum'])['Date'].agg(method).reset_index().rename(columns={'max':'rec_date'})\n",
    "    test_cmn = day_since(CMN_, df_variable, '_CMN','Cardnum', 'Merchnum', i+1)\n",
    "\n",
    "    CMDesc_ = past_df.groupby(['Cardnum', 'Merch description'])['Date'].agg(method).reset_index().rename(columns={'max':'rec_date'})\n",
    "    test_cmd = day_since(CMDesc_, df_variable, '_CMDesc', 'Cardnum', 'Merch description', i+1)\n",
    "\n",
    "    CZip_ = past_df.groupby(['Cardnum', 'Merch zip'])['Date'].agg(method).reset_index().rename(columns={'max':'rec_date'})\n",
    "    test_zip = day_since(CZip_, df_variable, '_CZip', 'Cardnum', 'Merch zip', i+1)\n",
    "\n",
    "    CState_ = past_df.groupby(['Cardnum', 'Merch state'])['Date'].agg(method).reset_index().rename(columns={'max':'rec_date'})\n",
    "    test_sta = day_since(CState_, df_variable, '_CState', 'Cardnum', 'Merch state', i+1)\n",
    "\n",
    "    for i in range(len(df_variable)):\n",
    "        if df_variable.loc[i, 'Recnum'] in test_c.index:\n",
    "            idx = df_variable.loc[i, 'Recnum']\n",
    "            df_variable.loc[i, 'days_since_card'] = test_c.loc[idx, 'days_since_card']\n",
    "            df_variable.loc[i, 'days_since_Merchnum'] = test_m1.loc[idx, 'days_since_Merchnum']\n",
    "            df_variable.loc[i, 'days_since_MerchDesc'] = test_m2.loc[idx, 'days_since_MerchDesc']\n",
    "            df_variable.loc[i, 'days_since_CMN'] = test_cmn.loc[idx, 'days_since_CMN']\n",
    "            df_variable.loc[i, 'days_since_CMDesc'] = test_cmd.loc[idx, 'days_since_CMDesc']\n",
    "            df_variable.loc[i, 'days_since_CZip'] = test_zip.loc[idx, 'days_since_CZip']\n",
    "            df_variable.loc[i, 'days_since_CState'] = test_sta.loc[idx, 'days_since_CState']\n",
    "\n"
   ]
  },
  {
   "cell_type": "code",
   "execution_count": 44,
   "id": "australian-bradford",
   "metadata": {},
   "outputs": [
    {
     "data": {
      "text/plain": [
       "Index(['days_since_card', 'days_since_Merchnum', 'days_since_MerchDesc',\n",
       "       'days_since_CMN', 'days_since_CMDesc', 'days_since_CZip',\n",
       "       'days_since_CState'],\n",
       "      dtype='object')"
      ]
     },
     "execution_count": 44,
     "metadata": {},
     "output_type": "execute_result"
    }
   ],
   "source": [
    "days_since_var = df_variable.columns[-7:]\n",
    "days_since_var"
   ]
  },
  {
   "cell_type": "markdown",
   "id": "derived-personal",
   "metadata": {},
   "source": [
    "### Velocity change Variables (2 * 3 * 2 * 3 = 36 )"
   ]
  },
  {
   "cell_type": "code",
   "execution_count": 45,
   "id": "inner-elimination",
   "metadata": {},
   "outputs": [],
   "source": [
    "numerator = ['card_1_count', 'card_2_count', #count = number of transactions\n",
    "             'Merchnum_1_count', 'Merchnum_2_count', \n",
    "             'MerchDesc_1_count', 'MerchDesc_2_count',\n",
    "             'card_1_sum', 'card_2_sum',  #sum = total amount of transactions\n",
    "             'Merchnum_1_sum', 'Merchnum_2_sum', \n",
    "             'MerchDesc_1_sum', 'MerchDesc_2_sum']\n",
    "\n",
    "denominator = ['card_7_count', 'card_14_count','card_30_count', #count = number of transactions\n",
    "             'Merchnum_7_count', 'Merchnum_14_count', 'Merchnum_30_count',\n",
    "             'MerchDesc_7_count', 'MerchDesc_14_count', 'MerchDesc_30_count',\n",
    "             'card_7_sum', 'card_14_sum', 'card_30_sum', #sum = total amount of transactions\n",
    "             'Merchnum_7_sum', 'Merchnum_14_sum', 'Merchnum_30_sum',\n",
    "             'MerchDesc_7_sum', 'MerchDesc_14_sum', 'MerchDesc_30_sum']\n"
   ]
  },
  {
   "cell_type": "code",
   "execution_count": 46,
   "id": "static-closure",
   "metadata": {},
   "outputs": [],
   "source": [
    "#df_variable[denominator]\n",
    "import re\n",
    "for den in denominator:\n",
    "    m = re.search('(\\d)', den)\n",
    "    name = den+'_avg'\n",
    "    df_variable[name] = df_variable[den]/ int(m.group(0))\n"
   ]
  },
  {
   "cell_type": "code",
   "execution_count": 47,
   "id": "under-automation",
   "metadata": {},
   "outputs": [],
   "source": [
    "denominator = [(den + '_avg') for den in denominator]"
   ]
  },
  {
   "cell_type": "code",
   "execution_count": 48,
   "id": "pregnant-poetry",
   "metadata": {},
   "outputs": [],
   "source": [
    "for num in numerator:\n",
    "    for den in denominator:\n",
    "        if (num.split('_')[0] == den.split('_')[0]) & (num.split('_')[2] == den.split('_')[2]):\n",
    "            var = num.split('_')[0] + '_'+ num.split('_')[2] + '_' + num.split('_')[1] +'_'+ den.split('_')[1]\n",
    "            df_variable[var] = df_variable[num] / df_variable[den]"
   ]
  },
  {
   "cell_type": "code",
   "execution_count": 49,
   "id": "worthy-express",
   "metadata": {},
   "outputs": [],
   "source": [
    "velocity_var = df_variable.columns[-36:]"
   ]
  },
  {
   "cell_type": "markdown",
   "id": "embedded-study",
   "metadata": {},
   "source": [
    "## Put all together"
   ]
  },
  {
   "cell_type": "code",
   "execution_count": 50,
   "id": "classical-gather",
   "metadata": {},
   "outputs": [
    {
     "data": {
      "text/plain": [
       "423"
      ]
     },
     "execution_count": 50,
     "metadata": {},
     "output_type": "execute_result"
    }
   ],
   "source": [
    "a = prob.to_list() # 2 target encoded variables\n",
    "b = Amount_freq_ud # 378 amount and frequency variables\n",
    "c = days_since_var.to_list() # 7 days since variables\n",
    "d = velocity_var.to_list() #36 velocity variables\n",
    "all_var = a+b+c+d\n",
    "len(all_var)"
   ]
  },
  {
   "cell_type": "code",
   "execution_count": 51,
   "id": "spread-anderson",
   "metadata": {},
   "outputs": [
    {
     "data": {
      "text/html": [
       "<div>\n",
       "<style scoped>\n",
       "    .dataframe tbody tr th:only-of-type {\n",
       "        vertical-align: middle;\n",
       "    }\n",
       "\n",
       "    .dataframe tbody tr th {\n",
       "        vertical-align: top;\n",
       "    }\n",
       "\n",
       "    .dataframe thead th {\n",
       "        text-align: right;\n",
       "    }\n",
       "</style>\n",
       "<table border=\"1\" class=\"dataframe\">\n",
       "  <thead>\n",
       "    <tr style=\"text-align: right;\">\n",
       "      <th></th>\n",
       "      <th>variable name</th>\n",
       "      <th>max</th>\n",
       "      <th>min</th>\n",
       "      <th>mean</th>\n",
       "      <th>stdev</th>\n",
       "    </tr>\n",
       "  </thead>\n",
       "  <tbody>\n",
       "    <tr>\n",
       "      <th>0</th>\n",
       "      <td>day_prob</td>\n",
       "      <td>0.040</td>\n",
       "      <td>0.006652</td>\n",
       "      <td>0.011</td>\n",
       "      <td>0.007</td>\n",
       "    </tr>\n",
       "    <tr>\n",
       "      <th>1</th>\n",
       "      <td>state_prob</td>\n",
       "      <td>0.057</td>\n",
       "      <td>0.000000</td>\n",
       "      <td>0.010</td>\n",
       "      <td>0.009</td>\n",
       "    </tr>\n",
       "    <tr>\n",
       "      <th>2</th>\n",
       "      <td>card_1_mean</td>\n",
       "      <td>28392.840</td>\n",
       "      <td>0.140000</td>\n",
       "      <td>395.858</td>\n",
       "      <td>703.748</td>\n",
       "    </tr>\n",
       "    <tr>\n",
       "      <th>3</th>\n",
       "      <td>card_1_max</td>\n",
       "      <td>47900.000</td>\n",
       "      <td>0.140000</td>\n",
       "      <td>586.792</td>\n",
       "      <td>1195.496</td>\n",
       "    </tr>\n",
       "    <tr>\n",
       "      <th>4</th>\n",
       "      <td>card_1_median</td>\n",
       "      <td>28392.840</td>\n",
       "      <td>0.140000</td>\n",
       "      <td>370.775</td>\n",
       "      <td>688.370</td>\n",
       "    </tr>\n",
       "    <tr>\n",
       "      <th>...</th>\n",
       "      <td>...</td>\n",
       "      <td>...</td>\n",
       "      <td>...</td>\n",
       "      <td>...</td>\n",
       "      <td>...</td>\n",
       "    </tr>\n",
       "    <tr>\n",
       "      <th>418</th>\n",
       "      <td>MerchDesc_sum_1_14</td>\n",
       "      <td>1.000</td>\n",
       "      <td>0.000084</td>\n",
       "      <td>0.557</td>\n",
       "      <td>0.383</td>\n",
       "    </tr>\n",
       "    <tr>\n",
       "      <th>419</th>\n",
       "      <td>MerchDesc_sum_1_30</td>\n",
       "      <td>3.000</td>\n",
       "      <td>0.000089</td>\n",
       "      <td>1.334</td>\n",
       "      <td>1.161</td>\n",
       "    </tr>\n",
       "    <tr>\n",
       "      <th>420</th>\n",
       "      <td>MerchDesc_sum_2_7</td>\n",
       "      <td>527.516</td>\n",
       "      <td>0.001467</td>\n",
       "      <td>5.254</td>\n",
       "      <td>3.154</td>\n",
       "    </tr>\n",
       "    <tr>\n",
       "      <th>421</th>\n",
       "      <td>MerchDesc_sum_2_14</td>\n",
       "      <td>1.000</td>\n",
       "      <td>0.000084</td>\n",
       "      <td>0.603</td>\n",
       "      <td>0.365</td>\n",
       "    </tr>\n",
       "    <tr>\n",
       "      <th>422</th>\n",
       "      <td>MerchDesc_sum_2_30</td>\n",
       "      <td>3.000</td>\n",
       "      <td>0.000089</td>\n",
       "      <td>1.426</td>\n",
       "      <td>1.142</td>\n",
       "    </tr>\n",
       "  </tbody>\n",
       "</table>\n",
       "<p>423 rows × 5 columns</p>\n",
       "</div>"
      ],
      "text/plain": [
       "          variable name        max       min     mean     stdev\n",
       "0              day_prob      0.040  0.006652    0.011     0.007\n",
       "1            state_prob      0.057  0.000000    0.010     0.009\n",
       "2           card_1_mean  28392.840  0.140000  395.858   703.748\n",
       "3            card_1_max  47900.000  0.140000  586.792  1195.496\n",
       "4         card_1_median  28392.840  0.140000  370.775   688.370\n",
       "..                  ...        ...       ...      ...       ...\n",
       "418  MerchDesc_sum_1_14      1.000  0.000084    0.557     0.383\n",
       "419  MerchDesc_sum_1_30      3.000  0.000089    1.334     1.161\n",
       "420   MerchDesc_sum_2_7    527.516  0.001467    5.254     3.154\n",
       "421  MerchDesc_sum_2_14      1.000  0.000084    0.603     0.365\n",
       "422  MerchDesc_sum_2_30      3.000  0.000089    1.426     1.142\n",
       "\n",
       "[423 rows x 5 columns]"
      ]
     },
     "execution_count": 51,
     "metadata": {},
     "output_type": "execute_result"
    }
   ],
   "source": [
    "nyvar = df_variable[all_var]\n",
    "submit = pd.DataFrame(round(nyvar.max(), 3), columns = ['max'])\n",
    "submit['min'] = nyvar.min()\n",
    "submit['mean'] = round(nyvar.mean(), 3)\n",
    "submit['stdev'] = round(nyvar.std(), 3)\n",
    "submit.reset_index().rename(columns={'index':'variable name'})"
   ]
  },
  {
   "cell_type": "code",
   "execution_count": 52,
   "id": "federal-carter",
   "metadata": {},
   "outputs": [],
   "source": [
    "#submit.to_csv('card_tans_var_statistics.csv')"
   ]
  },
  {
   "cell_type": "code",
   "execution_count": 53,
   "id": "personal-audience",
   "metadata": {},
   "outputs": [],
   "source": [
    "#nyvar.to_csv('card_variable_list.csv')"
   ]
  },
  {
   "cell_type": "code",
   "execution_count": 58,
   "id": "gorgeous-regression",
   "metadata": {},
   "outputs": [],
   "source": [
    "df_filter = df_variable[df_variable.days >14]"
   ]
  },
  {
   "cell_type": "code",
   "execution_count": 62,
   "id": "adapted-north",
   "metadata": {},
   "outputs": [],
   "source": [
    "df_filter = df_filter[df_filter.Date <= '2010-08-31']"
   ]
  },
  {
   "cell_type": "code",
   "execution_count": 67,
   "id": "formal-telling",
   "metadata": {},
   "outputs": [],
   "source": [
    "filter_var = train = all_var + ['Fraud']\n",
    "df_filter[filter_var].to_csv('filter_variable_list.csv')"
   ]
  },
  {
   "cell_type": "code",
   "execution_count": 68,
   "id": "blocked-likelihood",
   "metadata": {},
   "outputs": [],
   "source": [
    "df_variable.to_csv('all_df_var.csv')"
   ]
  },
  {
   "cell_type": "code",
   "execution_count": null,
   "id": "excellent-attendance",
   "metadata": {},
   "outputs": [],
   "source": []
  }
 ],
 "metadata": {
  "kernelspec": {
   "display_name": "Python 3",
   "language": "python",
   "name": "python3"
  },
  "language_info": {
   "codemirror_mode": {
    "name": "ipython",
    "version": 3
   },
   "file_extension": ".py",
   "mimetype": "text/x-python",
   "name": "python",
   "nbconvert_exporter": "python",
   "pygments_lexer": "ipython3",
   "version": "3.8.5"
  }
 },
 "nbformat": 4,
 "nbformat_minor": 5
}
